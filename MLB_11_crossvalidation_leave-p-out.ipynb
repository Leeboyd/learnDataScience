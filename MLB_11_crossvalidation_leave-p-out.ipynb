{
 "cells": [
  {
   "cell_type": "code",
   "execution_count": 1,
   "metadata": {},
   "outputs": [],
   "source": [
    "import numpy\n",
    "from sklearn.model_selection import LeaveOneOut, LeavePOut"
   ]
  },
  {
   "cell_type": "code",
   "execution_count": 2,
   "metadata": {},
   "outputs": [],
   "source": [
    "# Configurable constants\n",
    "P_VAL = 2"
   ]
  },
  {
   "cell_type": "code",
   "execution_count": 3,
   "metadata": {},
   "outputs": [],
   "source": [
    "# Create some data to split with\n",
    "data = numpy.array([[1, 2], [3, 4], [5, 6], [7, 8]])"
   ]
  },
  {
   "cell_type": "code",
   "execution_count": 4,
   "metadata": {},
   "outputs": [],
   "source": [
    "# two method\n",
    "loocv = LeaveOneOut()\n",
    "lpocv = LeavePOut(p=P_VAL)\n",
    "\n",
    "split_loocv = loocv.split(data)\n",
    "split_lpocv = lpocv.split(data)"
   ]
  },
  {
   "cell_type": "code",
   "execution_count": 5,
   "metadata": {},
   "outputs": [
    {
     "name": "stdout",
     "output_type": "stream",
     "text": [
      "Data:\n",
      "[[1 2]\n",
      " [3 4]\n",
      " [5 6]\n",
      " [7 8]]\n",
      "\n"
     ]
    }
   ],
   "source": [
    "print(\"Data:\\n{}\\n\".format(data))"
   ]
  },
  {
   "cell_type": "code",
   "execution_count": 6,
   "metadata": {},
   "outputs": [],
   "source": [
    "def print_result(split_data):\n",
    "    \"\"\"\n",
    "    Prints the result of either a LPOCV or LOOCV operation\n",
    "    Args:\n",
    "        split_data: The resulting (train, test) split data\n",
    "    \"\"\"\n",
    "    for train, test in split_data:\n",
    "        output_train = ''\n",
    "        output_test = ''\n",
    "\n",
    "        bar = [\"-\"] * (len(train) + len(test))\n",
    "\n",
    "        # Build our output for display from the resulting split\n",
    "        for i in train:\n",
    "            output_train = \"{}({}: {}) \".format(output_train, i, data[i])\n",
    "\n",
    "        for i in test:\n",
    "            bar[i] = \"T\"\n",
    "            output_test = \"{}({}: {}) \".format(output_test, i, data[i])\n",
    "\n",
    "        print(\"[ {} ]\".format(\" \".join(bar)))\n",
    "        print(\"Train: {}\".format(output_train))\n",
    "        print(\"Test:  {}\\n\".format(output_test))"
   ]
  },
  {
   "cell_type": "code",
   "execution_count": 7,
   "metadata": {},
   "outputs": [
    {
     "name": "stdout",
     "output_type": "stream",
     "text": [
      "Leave-One-Out:\n",
      "\n",
      "[ T - - - ]\n",
      "Train: (1: [3 4]) (2: [5 6]) (3: [7 8]) \n",
      "Test:  (0: [1 2]) \n",
      "\n",
      "[ - T - - ]\n",
      "Train: (0: [1 2]) (2: [5 6]) (3: [7 8]) \n",
      "Test:  (1: [3 4]) \n",
      "\n",
      "[ - - T - ]\n",
      "Train: (0: [1 2]) (1: [3 4]) (3: [7 8]) \n",
      "Test:  (2: [5 6]) \n",
      "\n",
      "[ - - - T ]\n",
      "Train: (0: [1 2]) (1: [3 4]) (2: [5 6]) \n",
      "Test:  (3: [7 8]) \n",
      "\n"
     ]
    }
   ],
   "source": [
    "print(\"Leave-One-Out:\\n\")\n",
    "print_result(split_loocv)"
   ]
  },
  {
   "cell_type": "code",
   "execution_count": 8,
   "metadata": {},
   "outputs": [
    {
     "name": "stdout",
     "output_type": "stream",
     "text": [
      "Leave-P-Out (where p = 2):\n",
      "\n",
      "[ T T - - ]\n",
      "Train: (2: [5 6]) (3: [7 8]) \n",
      "Test:  (0: [1 2]) (1: [3 4]) \n",
      "\n",
      "[ T - T - ]\n",
      "Train: (1: [3 4]) (3: [7 8]) \n",
      "Test:  (0: [1 2]) (2: [5 6]) \n",
      "\n",
      "[ T - - T ]\n",
      "Train: (1: [3 4]) (2: [5 6]) \n",
      "Test:  (0: [1 2]) (3: [7 8]) \n",
      "\n",
      "[ - T T - ]\n",
      "Train: (0: [1 2]) (3: [7 8]) \n",
      "Test:  (1: [3 4]) (2: [5 6]) \n",
      "\n",
      "[ - T - T ]\n",
      "Train: (0: [1 2]) (2: [5 6]) \n",
      "Test:  (1: [3 4]) (3: [7 8]) \n",
      "\n",
      "[ - - T T ]\n",
      "Train: (0: [1 2]) (1: [3 4]) \n",
      "Test:  (2: [5 6]) (3: [7 8]) \n",
      "\n"
     ]
    }
   ],
   "source": [
    "print(\"Leave-P-Out (where p = {}):\\n\".format(P_VAL))\n",
    "print_result(split_lpocv)"
   ]
  },
  {
   "cell_type": "code",
   "execution_count": null,
   "metadata": {},
   "outputs": [],
   "source": []
  }
 ],
 "metadata": {
  "kernelspec": {
   "display_name": "Python 3",
   "language": "python",
   "name": "python3"
  },
  "language_info": {
   "codemirror_mode": {
    "name": "ipython",
    "version": 3
   },
   "file_extension": ".py",
   "mimetype": "text/x-python",
   "name": "python",
   "nbconvert_exporter": "python",
   "pygments_lexer": "ipython3",
   "version": "3.7.3"
  }
 },
 "nbformat": 4,
 "nbformat_minor": 2
}
