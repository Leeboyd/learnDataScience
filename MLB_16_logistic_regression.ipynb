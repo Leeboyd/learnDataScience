{
 "cells": [
  {
   "cell_type": "code",
   "execution_count": 1,
   "metadata": {},
   "outputs": [],
   "source": [
    "from sklearn.linear_model import LogisticRegression\n",
    "import numpy as np\n",
    "import random"
   ]
  },
  {
   "cell_type": "code",
   "execution_count": 2,
   "metadata": {},
   "outputs": [],
   "source": [
    "# define the classification for the training data\n",
    "def true_classifier(i):\n",
    "    if i >= 700:\n",
    "        return 1\n",
    "    return 0"
   ]
  },
  {
   "cell_type": "code",
   "execution_count": 5,
   "metadata": {},
   "outputs": [],
   "source": [
    "# generate a random dataset which includes random scores from 0 to 1000.\n",
    "x = np.array([ random.randint(0, 1000) for i in range(0,1000)])"
   ]
  },
  {
   "cell_type": "code",
   "execution_count": 8,
   "metadata": {},
   "outputs": [],
   "source": [
    "# reshape\n",
    "# row: number of sample\n",
    "# column: number of feature\n",
    "x = x.reshape((-1,1))"
   ]
  },
  {
   "cell_type": "code",
   "execution_count": 10,
   "metadata": {},
   "outputs": [],
   "source": [
    "# For each point, 1 for success and 0 for failure\n",
    "y = [ true_classifier(x[i][0]) for i in range(0,1000)]"
   ]
  },
  {
   "cell_type": "code",
   "execution_count": 12,
   "metadata": {},
   "outputs": [],
   "source": [
    "model = LogisticRegression(solver = 'liblinear')\n",
    "\n",
    "model = model.fit(x, y)"
   ]
  },
  {
   "cell_type": "code",
   "execution_count": 14,
   "metadata": {},
   "outputs": [],
   "source": [
    "# create 100 random samples to try against our model as test data\n",
    "test_x = [random.randint(0,1000) for i in range(0,100)]\n",
    "# Once\n",
    "test_x = np.array(test_x)\n",
    "test_x = test_x.reshape(-1,1)"
   ]
  },
  {
   "cell_type": "code",
   "execution_count": 18,
   "metadata": {},
   "outputs": [],
   "source": [
    "_class = model.predict(test_x)\n",
    "proba = model.predict_proba(test_x)"
   ]
  },
  {
   "cell_type": "code",
   "execution_count": 21,
   "metadata": {},
   "outputs": [
    {
     "name": "stdout",
     "output_type": "stream",
     "text": [
      "[835]: Class 1, probability [0.09666879 0.90333121]\n",
      "[612]: Class 0, probability [0.74623273 0.25376727]\n",
      "[305]: Class 0, probability [0.99646021 0.00353979]\n",
      "[85]: Class 0, probability [9.99864849e-01 1.35150582e-04]\n",
      "[875]: Class 1, probability [0.05576999 0.94423001]\n",
      "[684]: Class 0, probability [0.50220414 0.49779586]\n",
      "[653]: Class 0, probability [0.61524798 0.38475202]\n",
      "[185]: Class 0, probability [9.99403090e-01 5.96909543e-04]\n",
      "[8]: Class 0, probability [9.99956949e-01 4.30510438e-05]\n",
      "[766]: Class 1, probability [0.22977705 0.77022295]\n",
      "[708]: Class 1, probability [0.41391978 0.58608022]\n",
      "[56]: Class 0, probability [9.99912158e-01 8.78423641e-05]\n",
      "[294]: Class 0, probability [0.99699235 0.00300765]\n",
      "[416]: Class 0, probability [0.98185168 0.01814832]\n",
      "[415]: Class 0, probability [0.98211455 0.01788545]\n",
      "[421]: Class 0, probability [0.98047938 0.01952062]\n",
      "[7]: Class 0, probability [9.99957584e-01 4.24161308e-05]\n",
      "[418]: Class 0, probability [0.98131451 0.01868549]\n",
      "[230]: Class 0, probability [0.99883576 0.00116424]\n",
      "[759]: Class 1, probability [0.24869922 0.75130078]\n",
      "[682]: Class 0, probability [0.50963215 0.49036785]\n",
      "[382]: Class 0, probability [0.98897002 0.01102998]\n",
      "[489]: Class 0, probability [0.9481521 0.0518479]\n",
      "[654]: Class 0, probability [0.61172476 0.38827524]\n",
      "[493]: Class 0, probability [0.94515133 0.05484867]\n",
      "[754]: Class 1, probability [0.26283797 0.73716203]\n",
      "[352]: Class 0, probability [0.9929089 0.0070911]\n",
      "[566]: Class 0, probability [0.85347315 0.14652685]\n",
      "[781]: Class 1, probability [0.19271783 0.80728217]\n",
      "[471]: Class 0, probability [0.9598306 0.0401694]\n",
      "[172]: Class 0, probability [9.99507885e-01 4.92114545e-04]\n",
      "[284]: Class 0, probability [0.99740655 0.00259345]\n",
      "[463]: Class 0, probability [0.96417126 0.03582874]\n",
      "[95]: Class 0, probability [9.99843203e-01 1.56796960e-04]\n",
      "[71]: Class 0, probability [9.99890229e-01 1.09771140e-04]\n",
      "[900]: Class 1, probability [0.0391434 0.9608566]\n",
      "[834]: Class 1, probability [0.09797408 0.90202592]\n",
      "[957]: Class 1, probability [0.01716581 0.98283419]\n",
      "[685]: Class 1, probability [0.49848956 0.50151044]\n",
      "[695]: Class 1, probability [0.46142044 0.53857956]\n",
      "[264]: Class 0, probability [0.99807199 0.00192801]\n",
      "[136]: Class 0, probability [9.99711697e-01 2.88303498e-04]\n",
      "[659]: Class 0, probability [0.59393969 0.40606031]\n",
      "[845]: Class 1, probability [0.08444868 0.91555132]\n",
      "[319]: Class 0, probability [0.99564526 0.00435474]\n",
      "[105]: Class 0, probability [9.99818090e-01 1.81909698e-04]\n",
      "[673]: Class 0, probability [0.54295852 0.45704148]\n",
      "[126]: Class 0, probability [9.99751493e-01 2.48506686e-04]\n",
      "[461]: Class 0, probability [0.96518378 0.03481622]\n",
      "[868]: Class 1, probability [0.06150695 0.93849305]\n",
      "[844]: Class 1, probability [0.0856046 0.9143954]\n",
      "[202]: Class 0, probability [9.99231695e-01 7.68304792e-04]\n",
      "[135]: Class 0, probability [9.99715947e-01 2.84052651e-04]\n",
      "[413]: Class 0, probability [0.98262914 0.01737086]\n",
      "[888]: Class 1, probability [0.04642886 0.95357114]\n",
      "[848]: Class 1, probability [0.08106548 0.91893452]\n",
      "[892]: Class 1, probability [0.04386735 0.95613265]\n",
      "[652]: Class 0, probability [0.61875914 0.38124086]\n",
      "[19]: Class 0, probability [9.99949305e-01 5.06946816e-05]\n",
      "[177]: Class 0, probability [9.99469953e-01 5.30046876e-04]\n",
      "[801]: Class 1, probability [0.15063699 0.84936301]\n",
      "[819]: Class 1, probability [0.11951146 0.88048854]\n",
      "[442]: Class 0, probability [0.97352041 0.02647959]\n",
      "[197]: Class 0, probability [9.99286666e-01 7.13333914e-04]\n",
      "[431]: Class 0, probability [0.97742297 0.02257703]\n",
      "[773]: Class 1, probability [0.21188854 0.78811146]\n",
      "[462]: Class 0, probability [0.96468101 0.03531899]\n",
      "[918]: Class 1, probability [0.03023528 0.96976472]\n",
      "[502]: Class 0, probability [0.93779183 0.06220817]\n",
      "[605]: Class 0, probability [0.7654201 0.2345799]\n",
      "[251]: Class 0, probability [0.9984101 0.0015899]\n",
      "[23]: Class 0, probability [9.99946201e-01 5.37988138e-05]\n",
      "[175]: Class 0, probability [9.99485465e-01 5.14535324e-04]\n",
      "[965]: Class 1, probability [0.01527134 0.98472866]\n",
      "[38]: Class 0, probability [9.99932770e-01 6.72296034e-05]\n",
      "[422]: Class 0, probability [0.98019296 0.01980704]\n",
      "[978]: Class 1, probability [0.01262281 0.98737719]\n",
      "[129]: Class 0, probability [9.99740168e-01 2.59831557e-04]\n",
      "[817]: Class 1, probability [0.12267404 0.87732596]\n",
      "[364]: Class 0, probability [0.99153654 0.00846346]\n",
      "[765]: Class 1, probability [0.23241724 0.76758276]\n",
      "[690]: Class 1, probability [0.47992738 0.52007262]\n",
      "[534]: Class 0, probability [0.90357325 0.09642675]\n",
      "[773]: Class 1, probability [0.21188854 0.78811146]\n",
      "[340]: Class 0, probability [0.99406006 0.00593994]\n",
      "[676]: Class 0, probability [0.53187761 0.46812239]\n",
      "[24]: Class 0, probability [9.99945396e-01 5.46041012e-05]\n",
      "[618]: Class 0, probability [0.72898315 0.27101685]\n",
      "[166]: Class 0, probability [9.99549840e-01 4.50160057e-04]\n",
      "[23]: Class 0, probability [9.99946201e-01 5.37988138e-05]\n",
      "[843]: Class 1, probability [0.08677484 0.91322516]\n",
      "[152]: Class 0, probability [9.99634352e-01 3.65647750e-04]\n",
      "[237]: Class 0, probability [0.99870831 0.00129169]\n",
      "[153]: Class 0, probability [9.99628881e-01 3.71119214e-04]\n",
      "[59]: Class 0, probability [9.99908154e-01 9.18461620e-05]\n",
      "[478]: Class 0, probability [0.95562302 0.04437698]\n",
      "[87]: Class 0, probability [9.99860773e-01 1.39226522e-04]\n",
      "[699]: Class 1, probability [0.44668864 0.55331136]\n",
      "[428]: Class 0, probability [0.97838597 0.02161403]\n",
      "[35]: Class 0, probability [9.99935701e-01 6.42988323e-05]\n",
      "96 out of 100 correct.\n"
     ]
    }
   ],
   "source": [
    "num_accurate = 0\n",
    "\n",
    "# The format is [<sampe value>]: \n",
    "# Class <class number>,\n",
    "# probability [<probability for class 0> <probability for class 1>]\n",
    "for i in range(0,100):\n",
    "    if (true_classifier(test_x[i])) == (_class[i] == 1):\n",
    "        num_accurate+=1\n",
    "    print(\"\" + str(test_x[i]) + \": Class \" + str(_class[i]) + \", probability \" + str(proba[i]))\n",
    "\n",
    "print(str(num_accurate) + \" out of 100 correct.\")"
   ]
  }
 ],
 "metadata": {
  "kernelspec": {
   "display_name": "Python 3",
   "language": "python",
   "name": "python3"
  },
  "language_info": {
   "codemirror_mode": {
    "name": "ipython",
    "version": 3
   },
   "file_extension": ".py",
   "mimetype": "text/x-python",
   "name": "python",
   "nbconvert_exporter": "python",
   "pygments_lexer": "ipython3",
   "version": "3.7.3"
  }
 },
 "nbformat": 4,
 "nbformat_minor": 2
}
