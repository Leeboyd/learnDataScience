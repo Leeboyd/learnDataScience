{
 "cells": [
  {
   "cell_type": "code",
   "execution_count": 1,
   "metadata": {},
   "outputs": [],
   "source": [
    "import numpy as np\n",
    "from sklearn.naive_bayes import MultinomialNB"
   ]
  },
  {
   "cell_type": "code",
   "execution_count": 2,
   "metadata": {},
   "outputs": [],
   "source": [
    "classes = {\n",
    "    'Size': ['Small', 'Moderate', 'Large'],\n",
    "    'Weight':  ['Light', 'Moderate', 'Heavy'],\n",
    "    'Color':  ['Red', 'Blue', 'Brown']\n",
    "}"
   ]
  },
  {
   "cell_type": "code",
   "execution_count": 4,
   "metadata": {},
   "outputs": [],
   "source": [
    "# Train\n",
    "X = np.array([[1,1,0],[0,0,1],[2,2,2]])\n",
    "# Target\n",
    "y = np.array(['Apple','Blueberry','Coconut'])"
   ]
  },
  {
   "cell_type": "code",
   "execution_count": 5,
   "metadata": {},
   "outputs": [
    {
     "data": {
      "text/plain": [
       "MultinomialNB(alpha=1.0, class_prior=None, fit_prior=True)"
      ]
     },
     "execution_count": 5,
     "metadata": {},
     "output_type": "execute_result"
    }
   ],
   "source": [
    "# This is the code we need for the Multinomial model\n",
    "clf = MultinomialNB()\n",
    "# We Train the model on our data\n",
    "clf.fit(X, y)"
   ]
  },
  {
   "cell_type": "code",
   "execution_count": 6,
   "metadata": {},
   "outputs": [
    {
     "name": "stdout",
     "output_type": "stream",
     "text": [
      "Our data set represents fruits and their characteristics.\n",
      "\n",
      "We have trained a Multinomial model on our data set.\n",
      "\n",
      "Let's consider a new input that is moderately sized, heavy, and red.\n",
      "\n",
      "What fruit does our model think this should be?\n",
      "Answer: Apple!\n"
     ]
    }
   ],
   "source": [
    "# Now we can make a prediction on what class new data belongs to\n",
    "print(\"Our data set represents fruits and their characteristics.\\n\")\n",
    "print(\"We have trained a Multinomial model on our data set.\\n\")\n",
    "print(\"Let's consider a new input that is moderately sized, heavy, and red.\\n\")\n",
    "print(\"What fruit does our model think this should be?\")\n",
    "print(\"Answer: %s!\" % clf.predict([[1, 2, 0]])[0])"
   ]
  },
  {
   "cell_type": "code",
   "execution_count": 11,
   "metadata": {},
   "outputs": [
    {
     "name": "stdout",
     "output_type": "stream",
     "text": [
      "Answer: Blueberry!\n"
     ]
    }
   ],
   "source": [
    "print(\"Answer: %s!\" % clf.predict([[2, 0, 2]])[0])"
   ]
  },
  {
   "cell_type": "code",
   "execution_count": null,
   "metadata": {},
   "outputs": [],
   "source": []
  },
  {
   "cell_type": "code",
   "execution_count": null,
   "metadata": {},
   "outputs": [],
   "source": []
  }
 ],
 "metadata": {
  "kernelspec": {
   "display_name": "Python 3",
   "language": "python",
   "name": "python3"
  },
  "language_info": {
   "codemirror_mode": {
    "name": "ipython",
    "version": 3
   },
   "file_extension": ".py",
   "mimetype": "text/x-python",
   "name": "python",
   "nbconvert_exporter": "python",
   "pygments_lexer": "ipython3",
   "version": "3.7.3"
  }
 },
 "nbformat": 4,
 "nbformat_minor": 2
}
