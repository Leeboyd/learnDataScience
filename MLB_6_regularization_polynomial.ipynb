{
 "cells": [
  {
   "cell_type": "code",
   "execution_count": 1,
   "metadata": {},
   "outputs": [],
   "source": [
    "import matplotlib.pyplot as plt\n",
    "import seaborn as sns\n",
    "from sklearn.preprocessing import PolynomialFeatures\n",
    "from sklearn.datasets import make_regression\n",
    "from sklearn.linear_model import LinearRegression, Ridge\n",
    "from sklearn.pipeline import Pipeline\n",
    "import numpy as np"
   ]
  },
  {
   "cell_type": "code",
   "execution_count": 2,
   "metadata": {},
   "outputs": [],
   "source": [
    "# Create a data set for analysis\n",
    "x, y = make_regression(n_samples=100, n_features=1, noise=15, random_state=0)\n",
    "y = y ** 2"
   ]
  },
  {
   "cell_type": "code",
   "execution_count": 3,
   "metadata": {},
   "outputs": [],
   "source": [
    "# Pipeline lets us set the steps for our modeling\n",
    "# We are comparing a standard polynomial model against one with ridge\n",
    "model = Pipeline([\n",
    "    ('poly', PolynomialFeatures(degree=10)),\n",
    "    ('linear', LinearRegression(fit_intercept=False))\n",
    "])"
   ]
  },
  {
   "cell_type": "code",
   "execution_count": 7,
   "metadata": {},
   "outputs": [
    {
     "name": "stdout",
     "output_type": "stream",
     "text": [
      "shape x_plot (100,)\n",
      "[-2.55298982 -2.50427523 -2.45556064 -2.40684604 -2.35813145 -2.30941686\n",
      " -2.26070227 -2.21198768 -2.16327309 -2.1145585  -2.06584391 -2.01712932\n",
      " -1.96841473 -1.91970014 -1.87098555 -1.82227096 -1.77355637 -1.72484178\n",
      " -1.67612719 -1.6274126  -1.57869801 -1.52998342 -1.48126883 -1.43255424\n",
      " -1.38383965 -1.33512506 -1.28641047 -1.23769588 -1.18898129 -1.1402667\n",
      " -1.09155211 -1.04283752 -0.99412293 -0.94540834 -0.89669375 -0.84797916\n",
      " -0.79926456 -0.75054997 -0.70183538 -0.65312079 -0.6044062  -0.55569161\n",
      " -0.50697702 -0.45826243 -0.40954784 -0.36083325 -0.31211866 -0.26340407\n",
      " -0.21468948 -0.16597489 -0.1172603  -0.06854571 -0.01983112  0.02888347\n",
      "  0.07759806  0.12631265  0.17502724  0.22374183  0.27245642  0.32117101\n",
      "  0.3698856   0.41860019  0.46731478  0.51602937  0.56474396  0.61345855\n",
      "  0.66217314  0.71088773  0.75960232  0.80831691  0.85703151  0.9057461\n",
      "  0.95446069  1.00317528  1.05188987  1.10060446  1.14931905  1.19803364\n",
      "  1.24674823  1.29546282  1.34417741  1.392892    1.44160659  1.49032118\n",
      "  1.53903577  1.58775036  1.63646495  1.68517954  1.73389413  1.78260872\n",
      "  1.83132331  1.8800379   1.92875249  1.97746708  2.02618167  2.07489626\n",
      "  2.12361085  2.17232544  2.22104003  2.26975462]\n",
      "shape x_plot (100, 1)\n",
      "[[-2.55298982]\n",
      " [-2.50427523]\n",
      " [-2.45556064]\n",
      " [-2.40684604]\n",
      " [-2.35813145]\n",
      " [-2.30941686]\n",
      " [-2.26070227]\n",
      " [-2.21198768]\n",
      " [-2.16327309]\n",
      " [-2.1145585 ]\n",
      " [-2.06584391]\n",
      " [-2.01712932]\n",
      " [-1.96841473]\n",
      " [-1.91970014]\n",
      " [-1.87098555]\n",
      " [-1.82227096]\n",
      " [-1.77355637]\n",
      " [-1.72484178]\n",
      " [-1.67612719]\n",
      " [-1.6274126 ]\n",
      " [-1.57869801]\n",
      " [-1.52998342]\n",
      " [-1.48126883]\n",
      " [-1.43255424]\n",
      " [-1.38383965]\n",
      " [-1.33512506]\n",
      " [-1.28641047]\n",
      " [-1.23769588]\n",
      " [-1.18898129]\n",
      " [-1.1402667 ]\n",
      " [-1.09155211]\n",
      " [-1.04283752]\n",
      " [-0.99412293]\n",
      " [-0.94540834]\n",
      " [-0.89669375]\n",
      " [-0.84797916]\n",
      " [-0.79926456]\n",
      " [-0.75054997]\n",
      " [-0.70183538]\n",
      " [-0.65312079]\n",
      " [-0.6044062 ]\n",
      " [-0.55569161]\n",
      " [-0.50697702]\n",
      " [-0.45826243]\n",
      " [-0.40954784]\n",
      " [-0.36083325]\n",
      " [-0.31211866]\n",
      " [-0.26340407]\n",
      " [-0.21468948]\n",
      " [-0.16597489]\n",
      " [-0.1172603 ]\n",
      " [-0.06854571]\n",
      " [-0.01983112]\n",
      " [ 0.02888347]\n",
      " [ 0.07759806]\n",
      " [ 0.12631265]\n",
      " [ 0.17502724]\n",
      " [ 0.22374183]\n",
      " [ 0.27245642]\n",
      " [ 0.32117101]\n",
      " [ 0.3698856 ]\n",
      " [ 0.41860019]\n",
      " [ 0.46731478]\n",
      " [ 0.51602937]\n",
      " [ 0.56474396]\n",
      " [ 0.61345855]\n",
      " [ 0.66217314]\n",
      " [ 0.71088773]\n",
      " [ 0.75960232]\n",
      " [ 0.80831691]\n",
      " [ 0.85703151]\n",
      " [ 0.9057461 ]\n",
      " [ 0.95446069]\n",
      " [ 1.00317528]\n",
      " [ 1.05188987]\n",
      " [ 1.10060446]\n",
      " [ 1.14931905]\n",
      " [ 1.19803364]\n",
      " [ 1.24674823]\n",
      " [ 1.29546282]\n",
      " [ 1.34417741]\n",
      " [ 1.392892  ]\n",
      " [ 1.44160659]\n",
      " [ 1.49032118]\n",
      " [ 1.53903577]\n",
      " [ 1.58775036]\n",
      " [ 1.63646495]\n",
      " [ 1.68517954]\n",
      " [ 1.73389413]\n",
      " [ 1.78260872]\n",
      " [ 1.83132331]\n",
      " [ 1.8800379 ]\n",
      " [ 1.92875249]\n",
      " [ 1.97746708]\n",
      " [ 2.02618167]\n",
      " [ 2.07489626]\n",
      " [ 2.12361085]\n",
      " [ 2.17232544]\n",
      " [ 2.22104003]\n",
      " [ 2.26975462]]\n"
     ]
    }
   ],
   "source": [
    "# Now we train on our data\n",
    "model = model.fit(x, y)\n",
    "\n",
    "# Now we pridict\n",
    "# The next two lines are used to model input for our prediction graph\n",
    "x_plot = np.linspace(min(x)[0], max(x)[0], 100)\n",
    "print(\"shape x_plot\", x_plot.shape)\n",
    "print(x_plot)\n",
    "x_plot = x_plot[:, np.newaxis]\n",
    "print(\"shape x_plot\", x_plot.shape)\n",
    "print(x_plot)\n",
    "y_predictions = model.predict(x_plot)"
   ]
  },
  {
   "cell_type": "code",
   "execution_count": 5,
   "metadata": {},
   "outputs": [
    {
     "data": {
      "image/png": "[encoded data removed]",
      "text/plain": [
       "<Figure size 432x288 with 1 Axes>"
      ]
     },
     "metadata": {},
     "output_type": "display_data"
    }
   ],
   "source": [
    "# plot the data\n",
    "sns.set_style(\"darkgrid\")\n",
    "plt.plot(x_plot, y_predictions, color='black')\n",
    "plt.scatter(x, y, marker='o')\n",
    "plt.xticks(())\n",
    "plt.yticks(())\n",
    "plt.tight_layout()\n",
    "plt.show()"
   ]
  },
  {
   "cell_type": "code",
   "execution_count": null,
   "metadata": {},
   "outputs": [],
   "source": []
  }
 ],
 "metadata": {
  "kernelspec": {
   "display_name": "Python 3",
   "language": "python",
   "name": "python3"
  },
  "language_info": {
   "codemirror_mode": {
    "name": "ipython",
    "version": 3
   },
   "file_extension": ".py",
   "mimetype": "text/x-python",
   "name": "python",
   "nbconvert_exporter": "python",
   "pygments_lexer": "ipython3",
   "version": "3.7.3"
  }
 },
 "nbformat": 4,
 "nbformat_minor": 2
}
