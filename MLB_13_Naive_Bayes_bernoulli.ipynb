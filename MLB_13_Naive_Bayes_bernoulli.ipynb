{
 "cells": [
  {
   "cell_type": "code",
   "execution_count": 1,
   "metadata": {},
   "outputs": [],
   "source": [
    "import numpy as np\n",
    "from sklearn.naive_bayes import BernoulliNB"
   ]
  },
  {
   "cell_type": "code",
   "execution_count": 2,
   "metadata": {},
   "outputs": [],
   "source": [
    "# Walks like a duck: 0 = False, 1 = True\n",
    "# Talks like a duck: 0 = False, 1 = True\n",
    "# Is small: 0 = False, 1 = True"
   ]
  },
  {
   "cell_type": "code",
   "execution_count": 2,
   "metadata": {},
   "outputs": [],
   "source": [
    "# Train\n",
    "X = np.array([[1,1,0],[0,0,1],[1,0,0]])\n",
    "# Target\n",
    "y = np.array(['Duck', 'Not a Duck', 'Not a Duck'])"
   ]
  },
  {
   "cell_type": "code",
   "execution_count": 3,
   "metadata": {},
   "outputs": [
    {
     "data": {
      "text/plain": [
       "BernoulliNB(alpha=1.0, binarize=0.0, class_prior=None, fit_prior=True)"
      ]
     },
     "execution_count": 3,
     "metadata": {},
     "output_type": "execute_result"
    }
   ],
   "source": [
    "# This is the code we need for the Multinomial model\n",
    "clf = BernoulliNB()\n",
    "# We Train the model on our data\n",
    "clf.fit(X, y)"
   ]
  },
  {
   "cell_type": "code",
   "execution_count": 4,
   "metadata": {},
   "outputs": [
    {
     "name": "stdout",
     "output_type": "stream",
     "text": [
      "Our data set represents things that are and aren't ducks.\n",
      "\n",
      "We have trained a Bernoulli model on our data set.\n",
      "\n",
      "Let's consider a new input that:\n",
      "   Walks like a duck\n",
      "   Talks like a duck\n",
      "   Is large\n",
      "\n",
      "What does our model think this should be?\n"
     ]
    }
   ],
   "source": [
    "# Now we can make a prediction on what class new data belongs to\n",
    "print(\"Our data set represents things that are and aren't ducks.\\n\")\n",
    "print(\"We have trained a Bernoulli model on our data set.\\n\")\n",
    "print((\"Let's consider a new input that:\\n\"\n",
    "       \"   Walks like a duck\\n\"\n",
    "       \"   Talks like a duck\\n\"\n",
    "       \"   Is large\\n\"))\n",
    "print(\"What does our model think this should be?\")"
   ]
  },
  {
   "cell_type": "code",
   "execution_count": 5,
   "metadata": {},
   "outputs": [
    {
     "name": "stdout",
     "output_type": "stream",
     "text": [
      "Answer: Duck!\n"
     ]
    }
   ],
   "source": [
    "print(\"Answer: %s!\" % clf.predict([[1, 1, 1]])[0])"
   ]
  },
  {
   "cell_type": "code",
   "execution_count": null,
   "metadata": {},
   "outputs": [],
   "source": []
  },
  {
   "cell_type": "code",
   "execution_count": null,
   "metadata": {},
   "outputs": [],
   "source": []
  }
 ],
 "metadata": {
  "kernelspec": {
   "display_name": "Python 3",
   "language": "python",
   "name": "python3"
  },
  "language_info": {
   "codemirror_mode": {
    "name": "ipython",
    "version": 3
   },
   "file_extension": ".py",
   "mimetype": "text/x-python",
   "name": "python",
   "nbconvert_exporter": "python",
   "pygments_lexer": "ipython3",
   "version": "3.7.3"
  }
 },
 "nbformat": 4,
 "nbformat_minor": 2
}
