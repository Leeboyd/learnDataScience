{
 "cells": [
  {
   "cell_type": "code",
   "execution_count": 1,
   "metadata": {},
   "outputs": [],
   "source": [
    "# An example of K-Fold Cross Validation split\n",
    "import numpy\n",
    "from sklearn.model_selection import KFold"
   ]
  },
  {
   "cell_type": "code",
   "execution_count": 2,
   "metadata": {},
   "outputs": [],
   "source": [
    "# configure constant\n",
    "NUM_SPLIT = 3"
   ]
  },
  {
   "cell_type": "code",
   "execution_count": 3,
   "metadata": {},
   "outputs": [],
   "source": [
    "# Create some data to perform K-Fold CV on\n",
    "data = numpy.array([[1, 2], [3, 4], [5, 6], [7, 8], [9, 10], [11, 12]])"
   ]
  },
  {
   "cell_type": "code",
   "execution_count": 8,
   "metadata": {},
   "outputs": [
    {
     "name": "stdout",
     "output_type": "stream",
     "text": [
      "<generator object _BaseKFold.split at 0x1a1e9ed840>\n"
     ]
    }
   ],
   "source": [
    "# Perform a K-Fold split and print results\n",
    "kfold = KFold(n_splits = NUM_SPLIT)\n",
    "split_data = kfold.split(data)\n",
    "print(split_data)"
   ]
  },
  {
   "cell_type": "code",
   "execution_count": 5,
   "metadata": {},
   "outputs": [
    {
     "name": "stdout",
     "output_type": "stream",
     "text": [
      "Data:\n",
      "[[ 1  2]\n",
      " [ 3  4]\n",
      " [ 5  6]\n",
      " [ 7  8]\n",
      " [ 9 10]\n",
      " [11 12]]\n",
      "\n",
      "K-Fold split (with n_splits = 3):\n",
      "\n"
     ]
    }
   ],
   "source": [
    "print(\"Data:\\n{}\\n\".format(data))\n",
    "print('K-Fold split (with n_splits = {}):\\n'.format(NUM_SPLIT))"
   ]
  },
  {
   "cell_type": "code",
   "execution_count": 7,
   "metadata": {},
   "outputs": [
    {
     "name": "stdout",
     "output_type": "stream",
     "text": [
      "[ T T - - - - ]\n",
      "Train: (2: [5 6]) (3: [7 8]) (4: [ 9 10]) (5: [11 12]) \n",
      "Test:  (0: [1 2]) (1: [3 4]) \n",
      "\n",
      "[ - - T T - - ]\n",
      "Train: (0: [1 2]) (1: [3 4]) (4: [ 9 10]) (5: [11 12]) \n",
      "Test:  (2: [5 6]) (3: [7 8]) \n",
      "\n",
      "[ - - - - T T ]\n",
      "Train: (0: [1 2]) (1: [3 4]) (2: [5 6]) (3: [7 8]) \n",
      "Test:  (4: [ 9 10]) (5: [11 12]) \n",
      "\n"
     ]
    }
   ],
   "source": [
    "for train, test in split_data:\n",
    "    output_train = ''\n",
    "    output_test = ''\n",
    "\n",
    "    bar = [\"-\"] * (len(train) + len(test))\n",
    "\n",
    "    # Build our output for display from the resulting split\n",
    "    for i in train:\n",
    "        output_train = \"{}({}: {}) \".format(output_train, i, data[i])\n",
    "\n",
    "    for i in test:\n",
    "        bar[i] = \"T\"\n",
    "        output_test = \"{}({}: {}) \".format(output_test, i, data[i])\n",
    "\n",
    "    print(\"[ {} ]\".format(\" \".join(bar)))\n",
    "    print(\"Train: {}\".format(output_train))\n",
    "    print(\"Test:  {}\\n\".format(output_test))"
   ]
  },
  {
   "cell_type": "code",
   "execution_count": null,
   "metadata": {},
   "outputs": [],
   "source": []
  }
 ],
 "metadata": {
  "kernelspec": {
   "display_name": "Python 3",
   "language": "python",
   "name": "python3"
  },
  "language_info": {
   "codemirror_mode": {
    "name": "ipython",
    "version": 3
   },
   "file_extension": ".py",
   "mimetype": "text/x-python",
   "name": "python",
   "nbconvert_exporter": "python",
   "pygments_lexer": "ipython3",
   "version": "3.7.3"
  }
 },
 "nbformat": 4,
 "nbformat_minor": 2
}
