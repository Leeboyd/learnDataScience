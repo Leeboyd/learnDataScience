{
 "cells": [
  {
   "cell_type": "code",
   "execution_count": 67,
   "metadata": {},
   "outputs": [],
   "source": [
    "import graphviz\n",
    "import itertools\n",
    "import random\n",
    "from sklearn import tree\n",
    "from sklearn.preprocessing import OneHotEncoder"
   ]
  },
  {
   "cell_type": "code",
   "execution_count": 68,
   "metadata": {},
   "outputs": [],
   "source": [
    "# The possible values for each class \n",
    "classes = {\n",
    "    'supplies': ['low', 'med', 'high'],\n",
    "    'weather':  ['raining', 'cloudy', 'sunny'],\n",
    "    'worked?':  ['yes', 'no']\n",
    "}"
   ]
  },
  {
   "cell_type": "code",
   "execution_count": 69,
   "metadata": {},
   "outputs": [],
   "source": [
    "# Our example data from the documentation\n",
    "data = [\n",
    "    ['low',  'sunny',   'yes'],\n",
    "    ['high', 'sunny',   'yes'],\n",
    "    ['med',  'cloudy',  'yes'],\n",
    "    ['low',  'raining', 'yes'],\n",
    "    ['low',  'cloudy',  'no' ],\n",
    "    ['high', 'sunny',   'no' ],\n",
    "    ['high', 'raining', 'no' ],\n",
    "    ['med',  'cloudy',  'yes'],\n",
    "    ['low',  'raining', 'yes'],\n",
    "    ['low',  'raining', 'no' ],\n",
    "    ['med',  'sunny',   'no' ],\n",
    "    ['high', 'sunny',   'yes']\n",
    "]"
   ]
  },
  {
   "cell_type": "code",
   "execution_count": 70,
   "metadata": {},
   "outputs": [],
   "source": [
    "# Our target variable, whether someone went shopping\n",
    "target = ['yes', 'no', 'no', 'no', 'yes', 'no', 'no', 'no', 'no', 'yes', 'yes', 'no']"
   ]
  },
  {
   "cell_type": "code",
   "execution_count": 75,
   "metadata": {},
   "outputs": [],
   "source": [
    "# Scikit learn can't handle categorical data, so form numeric representations of the above data\n",
    "# Categorical data support may be added in the future: https://github.com/scikit-learn/scikit-learn/pull/4899\n",
    "categories = [classes['supplies'], classes['weather'], classes['worked?']]\n",
    "encoder = OneHotEncoder(categories=categories)\n",
    "\n",
    "x_data = encoder.fit_transform(data)"
   ]
  },
  {
   "cell_type": "code",
   "execution_count": 76,
   "metadata": {},
   "outputs": [],
   "source": [
    "# Form and fit our decision tree to the now-encoded data\n",
    "classifier = tree.DecisionTreeClassifier()\n",
    "dtree = classifier.fit(x_data, target)"
   ]
  },
  {
   "cell_type": "code",
   "execution_count": 78,
   "metadata": {},
   "outputs": [
    {
     "data": {
      "text/plain": [
       "'decision_tree.pdf'"
      ]
     },
     "execution_count": 78,
     "metadata": {},
     "output_type": "execute_result"
    }
   ],
   "source": [
    "dot_data = export_graphviz(dtree, filled=True, proportion=True, feature_names=feature_names) \n",
    "graph = graphviz.Source(dot_data)\n",
    "graph.render(filename='decision_tree', cleanup=True, view=True)"
   ]
  },
  {
   "cell_type": "code",
   "execution_count": 46,
   "metadata": {},
   "outputs": [],
   "source": []
  }
 ],
 "metadata": {
  "kernelspec": {
   "display_name": "Python 3",
   "language": "python",
   "name": "python3"
  },
  "language_info": {
   "codemirror_mode": {
    "name": "ipython",
    "version": 3
   },
   "file_extension": ".py",
   "mimetype": "text/x-python",
   "name": "python",
   "nbconvert_exporter": "python",
   "pygments_lexer": "ipython3",
   "version": "3.7.3"
  }
 },
 "nbformat": 4,
 "nbformat_minor": 2
}
